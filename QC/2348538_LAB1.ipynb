{
 "cells": [
  {
   "cell_type": "code",
   "execution_count": 2,
   "metadata": {},
   "outputs": [],
   "source": [
    "import numpy as np\n",
    "from qiskit.quantum_info import Statevector  \n",
    "import matplotlib.pyplot as plt\n",
    "from IPython.display import display, Latex\n",
    "from qiskit import QuantumCircuit\n",
    "import seaborn as sns\n",
    "import warnings\n",
    "warnings.filterwarnings(\"ignore\")"
   ]
  },
  {
   "cell_type": "code",
   "execution_count": 3,
   "metadata": {},
   "outputs": [],
   "source": [
    "ket0 = np.array([1, 0])\n",
    "ket1 = np.array([0, 1])"
   ]
  },
  {
   "cell_type": "code",
   "execution_count": 4,
   "metadata": {},
   "outputs": [
    {
     "name": "stdout",
     "output_type": "stream",
     "text": [
      "Superposition State : [0.74535599 0.66666667]\n"
     ]
    }
   ],
   "source": [
    "#State |ψ⟩ = sqrt(5/9)|0⟩ + sqrt(4/9)|1⟩\n",
    "\n",
    "superposition_state = np.sqrt(5/9) * ket0 + np.sqrt(4/9) * ket1\n",
    "print(f\"Superposition State : {superposition_state}\")"
   ]
  },
  {
   "cell_type": "code",
   "execution_count": 5,
   "metadata": {},
   "outputs": [
    {
     "name": "stdout",
     "output_type": "stream",
     "text": [
      "The state is valid.\n"
     ]
    }
   ],
   "source": [
    "state = Statevector(superposition_state)\n",
    "\n",
    "if state.is_valid():\n",
    "    print(\"The state is valid.\")\n",
    "else:\n",
    "    print(\"The state is not valid.\")"
   ]
  },
  {
   "cell_type": "code",
   "execution_count": 6,
   "metadata": {},
   "outputs": [
    {
     "data": {
      "text/latex": [
       "$$\\frac{\\sqrt{5}}{3} |0\\rangle+\\frac{2}{3} |1\\rangle$$"
      ],
      "text/plain": [
       "<IPython.core.display.Latex object>"
      ]
     },
     "metadata": {},
     "output_type": "display_data"
    }
   ],
   "source": [
    "display(state.draw('latex'))"
   ]
  },
  {
   "cell_type": "code",
   "execution_count": 10,
   "metadata": {},
   "outputs": [],
   "source": [
    "qc = QuantumCircuit(1)\n",
    "qc.initialize(superposition_state, 0)\n",
    "qc.measure_all()"
   ]
  },
  {
   "cell_type": "code",
   "execution_count": 11,
   "metadata": {},
   "outputs": [
    {
     "name": "stdout",
     "output_type": "stream",
     "text": [
      "Measurement Probabilities: {'|0⟩': 0.5555555555555556, '|1⟩': 0.4444444444444444}\n"
     ]
    }
   ],
   "source": [
    "probabilities = np.abs(superposition_state) ** 2\n",
    "measurement_outcomes = {'|0⟩': probabilities[0], '|1⟩': probabilities[1]}\n",
    "print(f\"Measurement Probabilities: {measurement_outcomes}\")\n"
   ]
  },
  {
   "cell_type": "code",
   "execution_count": 9,
   "metadata": {},
   "outputs": [
    {
     "data": {
      "image/png": "[encoded data removed]",
      "text/plain": [
       "<Figure size 1000x800 with 1 Axes>"
      ]
     },
     "metadata": {},
     "output_type": "display_data"
    }
   ],
   "source": [
    "sns.set_style('whitegrid')\n",
    "color = sns.color_palette('YlGnBu', 1)\n",
    "\n",
    "plt.figure(figsize=(10, 8))\n",
    "sns.barplot(x=list(measurement_outcomes.keys()), y=list(measurement_outcomes.values()), palette=color)\n",
    "plt.xlabel('Measurement Outcome')\n",
    "plt.ylabel('Probability')\n",
    "plt.title('Measurement Probabilities of the Qubit')\n",
    "plt.ylim(0, 1)  # Set y-axis limits to show probabilities\n",
    "plt.show()"
   ]
  },
  {
   "cell_type": "markdown",
   "metadata": {},
   "source": [
    "# Inference for Quantum State Preparation and Measurement Probabilities\n",
    "\n",
    "This code demonstrates the preparation and analysis of a quantum state using Qiskit. The primary goal is to create a quantum state in superposition and compute the theoretical measurement probabilities without utilizing the Aer module for simulation. \n",
    "\n",
    "## Key Components of the Code\n",
    "\n",
    "1. **State Definition**:\n",
    "   - The code defines two basis states, \\(|0\\rangle\\) and \\(|1\\rangle\\), as NumPy arrays.\n",
    "   - An arbitrary superposition state \\(|\\psi\\rangle\\) is created using the coefficients \\(\\sqrt{\\frac{5}{9}}\\) and \\(\\sqrt{\\frac{4}{9}}\\).\n",
    "\n",
    "2. **State Validity Check**:\n",
    "   - The validity of the state vector is checked to ensure it is normalized (i.e., its norm should equal 1).\n",
    "\n",
    "3. **Quantum Circuit Initialization**:\n",
    "   - A quantum circuit is initialized with one qubit.\n",
    "   - The qubit is prepared in the defined superposition state using the `initialize` method.\n",
    "\n",
    "4. **Probability Calculation**:\n",
    "   - Instead of executing the circuit on a simulator, the code directly computes the probabilities of measuring the qubit in the \\(|0\\rangle\\) or \\(|1\\rangle\\) states based on the state vector.\n",
    "\n",
    "5. **Results Display**:\n",
    "   - The measurement probabilities are displayed in a dictionary format, providing insight into the likelihood of measuring each state.\n",
    "   - A bar chart visualizes these probabilities, making it easy to interpret the results.\n",
    "\n",
    "## Theoretical Measurement Outcomes\n",
    "The computed probabilities for measuring the qubit in the \\(|0\\rangle\\) and \\(|1\\rangle\\) states are derived from the squares of the coefficients of the superposition state:\n",
    "\n",
    "- Probability of \\(|0\\rangle\\): \\(\\left(\\sqrt{\\frac{5}{9}}\\right)^2 = \\frac{5}{9} \\approx 0.555\\)\n",
    "- Probability of \\(|1\\rangle\\): \\(\\left(\\sqrt{\\frac{4}{9}}\\right)^2 = \\frac{4}{9} \\approx 0.444\\)\n",
    "\n",
    "This indicates that when measuring the qubit, there is a 55.5% chance of observing it in the \\(|0\\rangle\\) state and a 44.4% chance of observing it in the \\(|1\\rangle\\) state.\n",
    "\n",
    "## Conclusion\n",
    "The code effectively demonstrates the principles of quantum state preparation and probability measurement without the complexities of running a simulation. This approach is particularly useful for understanding quantum mechanics at a conceptual level while avoiding simulation tools.\n"
   ]
  },
  {
   "cell_type": "markdown",
   "metadata": {},
   "source": []
  }
 ],
 "metadata": {
  "kernelspec": {
   "display_name": "Python 3",
   "language": "python",
   "name": "python3"
  },
  "language_info": {
   "codemirror_mode": {
    "name": "ipython",
    "version": 3
   },
   "file_extension": ".py",
   "mimetype": "text/x-python",
   "name": "python",
   "nbconvert_exporter": "python",
   "pygments_lexer": "ipython3",
   "version": "3.12.6"
  }
 },
 "nbformat": 4,
 "nbformat_minor": 2
}
